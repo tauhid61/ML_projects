{
 "metadata": {
  "language_info": {
   "codemirror_mode": {
    "name": "ipython",
    "version": 3
   },
   "file_extension": ".py",
   "mimetype": "text/x-python",
   "name": "python",
   "nbconvert_exporter": "python",
   "pygments_lexer": "ipython3",
   "version": "3.8.9"
  },
  "orig_nbformat": 2,
  "kernelspec": {
   "name": "python389jvsc74a57bd0303f4f94c3b299c215f3066923e10ebd3683e42f3be4d2a62ff11651779c3d00",
   "display_name": "Python 3.8.9 64-bit"
  },
  "metadata": {
   "interpreter": {
    "hash": "303f4f94c3b299c215f3066923e10ebd3683e42f3be4d2a62ff11651779c3d00"
   }
  }
 },
 "nbformat": 4,
 "nbformat_minor": 2,
 "cells": [
  {
   "source": [
    "## Transfer Learning using `ResNet50` on `CIFAR-10` imageset.\n",
    "### 1. Importing libraries"
   ],
   "cell_type": "markdown",
   "metadata": {}
  },
  {
   "source": [
    "import tensorflow as tf \n",
    "from tensorflow.keras.applications.resnet50 import ResNet50"
   ],
   "cell_type": "code",
   "metadata": {},
   "execution_count": null,
   "outputs": []
  },
  {
   "source": [
    "### 2. Load data & preprocess."
   ],
   "cell_type": "markdown",
   "metadata": {}
  },
  {
   "cell_type": "code",
   "execution_count": 15,
   "metadata": {},
   "outputs": [],
   "source": [
    "(train_image, train_label),(val_image, val_label) = tf.keras.datasets.cifar10.load_data()"
   ]
  },
  {
   "cell_type": "code",
   "execution_count": 16,
   "metadata": {},
   "outputs": [],
   "source": [
    "def preprocess_img(input_images):\n",
    "    input_images = input_images.astype('float32')\n",
    "    output_images = tf.keras.applications.resnet50.preprocess_input(input_images)\n",
    "    return output_images\n",
    "train_x = preprocess_img(train_image)\n",
    "val_x = preprocess_img(val_image)"
   ]
  },
  {
   "source": [
    "### 3. Build and Compile the Model."
   ],
   "cell_type": "markdown",
   "metadata": {}
  },
  {
   "cell_type": "code",
   "execution_count": 17,
   "metadata": {},
   "outputs": [
    {
     "output_type": "stream",
     "name": "stdout",
     "text": [
      "Model: \"model_3\"\n_________________________________________________________________\nLayer (type)                 Output Shape              Param #   \n=================================================================\ninput_7 (InputLayer)         [(None, 32, 32, 3)]       0         \n_________________________________________________________________\nup_sampling2d_3 (UpSampling2 (None, 224, 224, 3)       0         \n_________________________________________________________________\nresnet50 (Functional)        (None, 7, 7, 2048)        23587712  \n_________________________________________________________________\nglobal_average_pooling2d_3 ( (None, 2048)              0         \n_________________________________________________________________\nflatten_3 (Flatten)          (None, 2048)              0         \n_________________________________________________________________\ndense_7 (Dense)              (None, 1024)              2098176   \n_________________________________________________________________\nclassification (Dense)       (None, 512)               524800    \n_________________________________________________________________\ndense_8 (Dense)              (None, 10)                5130      \n=================================================================\nTotal params: 26,215,818\nTrainable params: 26,162,698\nNon-trainable params: 53,120\n_________________________________________________________________\nNone\n"
     ]
    }
   ],
   "source": [
    "def construct_model():\n",
    "    inputs = tf.keras.layers.Input(shape=(32,32,3))\n",
    "    resize = tf.keras.layers.UpSampling2D(size=(7,7))(inputs)\n",
    "    feature_extractor = ResNet50(input_shape=(224,224,3), include_top=False, weights='imagenet')(resize)\n",
    "    x = tf.keras.layers.GlobalAveragePooling2D()(feature_extractor)\n",
    "    x = tf.keras.layers.Flatten()(x)\n",
    "    x = tf.keras.layers.Dense(1024, activation='relu')(x)\n",
    "    x = tf.keras.layers.Dense(512, activation='relu', name='classification')(x)\n",
    "    outputs = tf.keras.layers.Dense(10, activation='softmax')(x)\n",
    "    model = tf.keras.Model(inputs=inputs, outputs=outputs)\n",
    "    return model\n",
    "model = construct_model()\n",
    "model.compile(optimizer='SGD', loss='sparse_categorical_crossentropy', metrics=['accuracy'])\n",
    "print(model.summary())"
   ]
  },
  {
   "source": [
    "### 4. Model Train\n",
    "\n",
    "- As it consumes a lot of time, i only trained for 1 epoch.Feel free to change."
   ],
   "cell_type": "markdown",
   "metadata": {}
  },
  {
   "cell_type": "code",
   "execution_count": 19,
   "metadata": {},
   "outputs": [
    {
     "output_type": "stream",
     "name": "stdout",
     "text": [
      "782/782 [==============================] - 37496s 48s/step - loss: 0.7410 - accuracy: 0.7564 - val_loss: 0.3683 - val_accuracy: 0.8787\n"
     ]
    }
   ],
   "source": [
    "history = model.fit(train_x, train_label, epochs=1, validation_data=(val_x, val_label), batch_size=64)"
   ]
  },
  {
   "source": [
    "### Visualize Loss and Accuracy\n",
    "- As i have trained for only one epoch, plotting wouldn't make sense for this scenario."
   ],
   "cell_type": "markdown",
   "metadata": {}
  },
  {
   "cell_type": "code",
   "execution_count": 24,
   "metadata": {},
   "outputs": [],
   "source": [
    "import matplotlib.pyplot as plt\n",
    "def plot_metrics(metric_name, title, ylim=5):\n",
    "    plt.title(title)\n",
    "    plt.ylim(0, ylim)\n",
    "    plt.plot(history.history[metric_name], color='blue', label=metric_name)\n",
    "    plt.plot(history.history['val_'+metric_name], color='red', label='val'+metric_name)"
   ]
  }
 ]
}